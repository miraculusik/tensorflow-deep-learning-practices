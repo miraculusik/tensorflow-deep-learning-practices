{
  "nbformat": 4,
  "nbformat_minor": 0,
  "metadata": {
    "colab": {
      "name": "Tensorflow-fundamentals-exercises.ipynb",
      "provenance": [],
      "collapsed_sections": [],
      "authorship_tag": "ABX9TyMKBiw7EqQaX4Cos5lXJY+D",
      "include_colab_link": true
    },
    "kernelspec": {
      "name": "python3",
      "display_name": "Python 3"
    },
    "language_info": {
      "name": "python"
    }
  },
  "cells": [
    {
      "cell_type": "markdown",
      "metadata": {
        "id": "view-in-github",
        "colab_type": "text"
      },
      "source": [
        "<a href=\"https://colab.research.google.com/github/miraculusik/tensorflow-deep-learning-practices/blob/main/Tensorflow_fundamentals_exercises.ipynb\" target=\"_parent\"><img src=\"https://colab.research.google.com/assets/colab-badge.svg\" alt=\"Open In Colab\"/></a>"
      ]
    },
    {
      "cell_type": "markdown",
      "metadata": {
        "id": "l-FavPDpvW_A"
      },
      "source": [
        "\n",
        "# 🛠 Exercises\n",
        " \n",
        "**Q1 :** Create a vector, scalar, matrix and tensor with values of your choosing using tf.constant().\n",
        "\n",
        "**Q2 :** Find the shape, rank and size of the tensors you created in 1.\n",
        "\n",
        "**Q3 :** Create two tensors containing random values between 0 and 1 with shape [5, 300].\n",
        "\n",
        "**Q4 :** Multiply the two tensors you created in 3 using matrix multiplication.\n",
        "\n",
        "**Q5 :** Multiply the two tensors you created in 3 using dot product.\n",
        "\n",
        "**Q6 :** Create a tensor with random values between 0 and 1 with shape [224, 224, 3].\n",
        "\n",
        "**Q7 :** Find the min and max values of the tensor you created in 6.\n",
        "\n",
        "**Q8 :** Created a tensor with random values of shape [1, 224, 224, 3] then squeeze it to change the shape to [224, 224, 3].\n",
        "\n",
        "**Q9 :** Create a tensor with shape [10] using your own choice of values, then find the index which has the maximum value.\n",
        "\n",
        "**Q10 :** One-hot encode the tensor you created in 9."
      ]
    },
    {
      "cell_type": "code",
      "metadata": {
        "id": "LCHriDDqwk_k"
      },
      "source": [
        "import tensorflow as tf"
      ],
      "execution_count": 2,
      "outputs": []
    },
    {
      "cell_type": "markdown",
      "metadata": {
        "id": "IrgETiYYwMGn"
      },
      "source": [
        "## **Q1 :** \n",
        "Create a vector, scalar, matrix and tensor with values of your choosing using tf.constant()."
      ]
    },
    {
      "cell_type": "code",
      "metadata": {
        "colab": {
          "base_uri": "https://localhost:8080/"
        },
        "id": "NC43EjzrvOGs",
        "outputId": "18ec60e2-0ae7-4a95-8066-9f3437842e87"
      },
      "source": [
        "# scalar - 0 dimension\n",
        "scalar_ = tf.constant(9.)\n",
        "print(scalar_)\n",
        "print(\"Dimension of 'scalar_':\",scalar_.ndim)"
      ],
      "execution_count": 31,
      "outputs": [
        {
          "output_type": "stream",
          "text": [
            "tf.Tensor(9.0, shape=(), dtype=float32)\n",
            "Dimension of 'scalar_': 0\n"
          ],
          "name": "stdout"
        }
      ]
    },
    {
      "cell_type": "code",
      "metadata": {
        "colab": {
          "base_uri": "https://localhost:8080/"
        },
        "id": "X-lDnfp4whKq",
        "outputId": "7d2719e4-d4d2-4912-9f14-9635d2aea384"
      },
      "source": [
        "# vector - 1 dimension\n",
        "vector_ = tf.constant([1,3,5,7,9.])\n",
        "print(vector_)\n",
        "print(\"Dimension of 'vector_':\",vector_.ndim)"
      ],
      "execution_count": 32,
      "outputs": [
        {
          "output_type": "stream",
          "text": [
            "tf.Tensor([1. 3. 5. 7. 9.], shape=(5,), dtype=float32)\n",
            "Dimension of 'vector_': 1\n"
          ],
          "name": "stdout"
        }
      ]
    },
    {
      "cell_type": "code",
      "metadata": {
        "colab": {
          "base_uri": "https://localhost:8080/"
        },
        "id": "_75tT91Jw3t6",
        "outputId": "9d62e55f-85ce-46ff-8e8e-1f9c1e629825"
      },
      "source": [
        "# matrix - 2 imension\n",
        "matrix_ = tf.constant([[1.,2.,3.],\n",
        "                       [4.,5.,6.],\n",
        "                       [7.,8.,9.]])\n",
        "print(matrix_)\n",
        "print(\"Dimension of 'matrix_':\",matrix_.ndim)"
      ],
      "execution_count": 33,
      "outputs": [
        {
          "output_type": "stream",
          "text": [
            "tf.Tensor(\n",
            "[[1. 2. 3.]\n",
            " [4. 5. 6.]\n",
            " [7. 8. 9.]], shape=(3, 3), dtype=float32)\n",
            "Dimension of 'matrix_': 2\n"
          ],
          "name": "stdout"
        }
      ]
    },
    {
      "cell_type": "code",
      "metadata": {
        "colab": {
          "base_uri": "https://localhost:8080/"
        },
        "id": "-iP9YMHDx0Au",
        "outputId": "2c5c5f16-0378-4beb-b698-a2983c425eff"
      },
      "source": [
        "# tensor - more than 2 dimension (in this example i used rank 3 tensor)\n",
        "tensor_ = tf.constant([[[1.,2.,3.],\n",
        "                        [4.,5.,6.]],\n",
        "                       [[7.,8.,9.],\n",
        "                        [10.,11.,12.]]])\n",
        "\n",
        "print(tensor_)\n",
        "print(\"Dimension of 'tensor_':\",tensor_.ndim)"
      ],
      "execution_count": 34,
      "outputs": [
        {
          "output_type": "stream",
          "text": [
            "tf.Tensor(\n",
            "[[[ 1.  2.  3.]\n",
            "  [ 4.  5.  6.]]\n",
            "\n",
            " [[ 7.  8.  9.]\n",
            "  [10. 11. 12.]]], shape=(2, 2, 3), dtype=float32)\n",
            "Dimension of 'tensor_': 3\n"
          ],
          "name": "stdout"
        }
      ]
    },
    {
      "cell_type": "code",
      "metadata": {
        "colab": {
          "base_uri": "https://localhost:8080/"
        },
        "id": "2OKDod9tyilA",
        "outputId": "80fa2bc1-972a-4502-81f4-d16ae8ad6227"
      },
      "source": [
        "tensor_"
      ],
      "execution_count": 22,
      "outputs": [
        {
          "output_type": "execute_result",
          "data": {
            "text/plain": [
              "<tf.Tensor: shape=(2, 2, 3), dtype=float32, numpy=\n",
              "array([[[ 1.,  2.,  3.],\n",
              "        [ 4.,  5.,  6.]],\n",
              "\n",
              "       [[ 7.,  8.,  9.],\n",
              "        [10., 11., 12.]]], dtype=float32)>"
            ]
          },
          "metadata": {
            "tags": []
          },
          "execution_count": 22
        }
      ]
    },
    {
      "cell_type": "markdown",
      "metadata": {
        "id": "CGUkGw2rzRSs"
      },
      "source": [
        "## **Q2 :** \n",
        "\n",
        "Find the shape, rank and size of the tensors you created in 1."
      ]
    },
    {
      "cell_type": "code",
      "metadata": {
        "colab": {
          "base_uri": "https://localhost:8080/"
        },
        "id": "ivnc3ujcyjPX",
        "outputId": "49dc71ea-3ecf-4e57-a2f3-1e2b4bb84d2e"
      },
      "source": [
        "print(\"shape of 'tensor_':\",tensor_.shape)"
      ],
      "execution_count": 39,
      "outputs": [
        {
          "output_type": "stream",
          "text": [
            "shape of 'tensor_': (2, 2, 3)\n"
          ],
          "name": "stdout"
        }
      ]
    },
    {
      "cell_type": "code",
      "metadata": {
        "colab": {
          "base_uri": "https://localhost:8080/"
        },
        "id": "iT9QRp60zVq4",
        "outputId": "6fab9820-59c1-4a74-8e43-d821f2a73be9"
      },
      "source": [
        "print(\"rank of 'tensor_':\",tensor_.ndim)"
      ],
      "execution_count": 38,
      "outputs": [
        {
          "output_type": "stream",
          "text": [
            "rank of 'tensor_': 3\n"
          ],
          "name": "stdout"
        }
      ]
    },
    {
      "cell_type": "code",
      "metadata": {
        "colab": {
          "base_uri": "https://localhost:8080/"
        },
        "id": "akNtBaArzW20",
        "outputId": "15565034-ae22-4054-faa3-7903d8a00f89"
      },
      "source": [
        "print(\"size of 'tensor_':\",tf.size(tensor_).numpy())"
      ],
      "execution_count": 43,
      "outputs": [
        {
          "output_type": "stream",
          "text": [
            "size of 'tensor_': 12\n"
          ],
          "name": "stdout"
        }
      ]
    },
    {
      "cell_type": "markdown",
      "metadata": {
        "id": "GvftRrF3z3SG"
      },
      "source": [
        "## **Q3 :** \n",
        "\n",
        "Create two tensors containing random values between 0 and 1 with shape [5, 300]."
      ]
    },
    {
      "cell_type": "code",
      "metadata": {
        "id": "KNjwXQBmztnS"
      },
      "source": [
        "tf.random.set_seed(42)\n",
        "tensor_1 = tf.random.uniform(shape=(5,300), maxval=1)"
      ],
      "execution_count": 45,
      "outputs": []
    },
    {
      "cell_type": "code",
      "metadata": {
        "id": "ywSkczyM0Ldm"
      },
      "source": [
        "tf.random.set_seed(9)\n",
        "tensor_2 = tf.random.uniform(shape=(5,300), maxval=1)"
      ],
      "execution_count": 49,
      "outputs": []
    },
    {
      "cell_type": "code",
      "metadata": {
        "colab": {
          "base_uri": "https://localhost:8080/"
        },
        "id": "FvbeYFTP0bLy",
        "outputId": "72b98be1-8a52-4de6-ea6c-1d7c7ed5e3c8"
      },
      "source": [
        "tensor_1"
      ],
      "execution_count": 50,
      "outputs": [
        {
          "output_type": "execute_result",
          "data": {
            "text/plain": [
              "<tf.Tensor: shape=(5, 300), dtype=float32, numpy=\n",
              "array([[0.6645621 , 0.44100678, 0.3528825 , ..., 0.31410468, 0.7593535 ,\n",
              "        0.03699052],\n",
              "       [0.532024  , 0.29129946, 0.10571766, ..., 0.54052293, 0.31425726,\n",
              "        0.2200619 ],\n",
              "       [0.08404207, 0.03614604, 0.97732127, ..., 0.21516645, 0.9786098 ,\n",
              "        0.00726748],\n",
              "       [0.7396945 , 0.6653172 , 0.0787828 , ..., 0.7117733 , 0.07013571,\n",
              "        0.9409125 ],\n",
              "       [0.15861344, 0.12024033, 0.27218235, ..., 0.8824879 , 0.1432488 ,\n",
              "        0.44135118]], dtype=float32)>"
            ]
          },
          "metadata": {
            "tags": []
          },
          "execution_count": 50
        }
      ]
    },
    {
      "cell_type": "code",
      "metadata": {
        "colab": {
          "base_uri": "https://localhost:8080/"
        },
        "id": "fXRxHFRy0cQm",
        "outputId": "9d914c71-2c89-459d-bcdd-ea5114e8dedb"
      },
      "source": [
        "tensor_2"
      ],
      "execution_count": 51,
      "outputs": [
        {
          "output_type": "execute_result",
          "data": {
            "text/plain": [
              "<tf.Tensor: shape=(5, 300), dtype=float32, numpy=\n",
              "array([[0.46696687, 0.7581432 , 0.6996453 , ..., 0.27514398, 0.35320437,\n",
              "        0.83345044],\n",
              "       [0.41634333, 0.23471797, 0.14901066, ..., 0.6938119 , 0.7583524 ,\n",
              "        0.9539218 ],\n",
              "       [0.18273306, 0.13849425, 0.12764347, ..., 0.15002131, 0.76074624,\n",
              "        0.8743453 ],\n",
              "       [0.36680603, 0.7209959 , 0.25549746, ..., 0.85957277, 0.45394373,\n",
              "        0.49012446],\n",
              "       [0.39641595, 0.533947  , 0.12242699, ..., 0.6687479 , 0.710225  ,\n",
              "        0.8829614 ]], dtype=float32)>"
            ]
          },
          "metadata": {
            "tags": []
          },
          "execution_count": 51
        }
      ]
    },
    {
      "cell_type": "markdown",
      "metadata": {
        "id": "1LcEo7NV0n0q"
      },
      "source": [
        "## **Q4 :** \n",
        "\n",
        "Multiply the two tensors you created in 3 using matrix multiplication."
      ]
    },
    {
      "cell_type": "code",
      "metadata": {
        "colab": {
          "base_uri": "https://localhost:8080/"
        },
        "id": "VgX7fWcE0dOe",
        "outputId": "ce3eca09-e888-466d-bb29-43e09e157d71"
      },
      "source": [
        "tensor_3 = tf.matmul(tensor_1, tensor_2, transpose_b=True)\n",
        "tensor_3"
      ],
      "execution_count": 53,
      "outputs": [
        {
          "output_type": "execute_result",
          "data": {
            "text/plain": [
              "<tf.Tensor: shape=(5, 5), dtype=float32, numpy=\n",
              "array([[78.10428 , 77.224945, 75.82192 , 72.84037 , 78.41609 ],\n",
              "       [68.418564, 70.82692 , 67.723526, 68.2842  , 73.798874],\n",
              "       [73.38815 , 75.47829 , 70.3624  , 74.29562 , 74.817055],\n",
              "       [72.03658 , 72.94582 , 70.96188 , 73.10724 , 73.52516 ],\n",
              "       [75.182175, 76.07675 , 74.27774 , 73.76506 , 79.25421 ]],\n",
              "      dtype=float32)>"
            ]
          },
          "metadata": {
            "tags": []
          },
          "execution_count": 53
        }
      ]
    },
    {
      "cell_type": "markdown",
      "metadata": {
        "id": "JWz1HI5m054L"
      },
      "source": [
        "## **Q5 :** \n",
        "\n",
        "Multiply the two tensors you created in 3 using dot product.\n"
      ]
    },
    {
      "cell_type": "code",
      "metadata": {
        "colab": {
          "base_uri": "https://localhost:8080/"
        },
        "id": "ATZlA7r60wui",
        "outputId": "52dac46c-660a-43d4-db00-c8a4fe986e95"
      },
      "source": [
        "tensor_4 = tf.tensordot(tensor_1, tf.transpose(tensor_2), axes=1)\n",
        "tensor_4"
      ],
      "execution_count": 59,
      "outputs": [
        {
          "output_type": "execute_result",
          "data": {
            "text/plain": [
              "<tf.Tensor: shape=(5, 5), dtype=float32, numpy=\n",
              "array([[78.10428 , 77.224945, 75.82192 , 72.84037 , 78.41609 ],\n",
              "       [68.418564, 70.82692 , 67.723526, 68.2842  , 73.798874],\n",
              "       [73.38815 , 75.47829 , 70.3624  , 74.29562 , 74.817055],\n",
              "       [72.03658 , 72.94582 , 70.96188 , 73.10724 , 73.52516 ],\n",
              "       [75.182175, 76.07675 , 74.27774 , 73.76506 , 79.25421 ]],\n",
              "      dtype=float32)>"
            ]
          },
          "metadata": {
            "tags": []
          },
          "execution_count": 59
        }
      ]
    },
    {
      "cell_type": "markdown",
      "metadata": {
        "id": "Wa24qJ4g1ej_"
      },
      "source": [
        "## **Q6 :** \n",
        "\n",
        "Create a tensor with random values between 0 and 1 with shape [224, 224, 3]."
      ]
    },
    {
      "cell_type": "code",
      "metadata": {
        "colab": {
          "base_uri": "https://localhost:8080/"
        },
        "id": "LYNw6Sh41OmB",
        "outputId": "6fb91477-edad-475f-94af-a23c3eaa85ac"
      },
      "source": [
        "tensor_q6 = tf.random.Generator.from_seed(9)\n",
        "tensor_q6 = tf.random.uniform(shape=(224, 224, 3))\n",
        "tensor_q6"
      ],
      "execution_count": 68,
      "outputs": [
        {
          "output_type": "execute_result",
          "data": {
            "text/plain": [
              "<tf.Tensor: shape=(224, 224, 3), dtype=float32, numpy=\n",
              "array([[[0.46925545, 0.8339242 , 0.55883753],\n",
              "        [0.9587674 , 0.57460964, 0.8234668 ],\n",
              "        [0.90690315, 0.95474184, 0.45882404],\n",
              "        ...,\n",
              "        [0.03103888, 0.65403974, 0.4118452 ],\n",
              "        [0.05530989, 0.91565394, 0.3315115 ],\n",
              "        [0.2680905 , 0.14662123, 0.52433586]],\n",
              "\n",
              "       [[0.3360393 , 0.27864778, 0.4258324 ],\n",
              "        [0.58998096, 0.17216122, 0.05244625],\n",
              "        [0.19852293, 0.57282495, 0.16788399],\n",
              "        ...,\n",
              "        [0.75059557, 0.8777534 , 0.01715028],\n",
              "        [0.48205316, 0.8545188 , 0.47807848],\n",
              "        [0.857443  , 0.4881196 , 0.8788835 ]],\n",
              "\n",
              "       [[0.00928235, 0.475919  , 0.37370384],\n",
              "        [0.3702476 , 0.13182461, 0.8551451 ],\n",
              "        [0.15644193, 0.00772548, 0.1700393 ],\n",
              "        ...,\n",
              "        [0.9340694 , 0.688807  , 0.8853426 ],\n",
              "        [0.9888463 , 0.02068186, 0.00575805],\n",
              "        [0.59455884, 0.44837892, 0.28249753]],\n",
              "\n",
              "       ...,\n",
              "\n",
              "       [[0.6280961 , 0.04600716, 0.3046044 ],\n",
              "        [0.71644974, 0.9318323 , 0.95091987],\n",
              "        [0.45826268, 0.9489182 , 0.3677603 ],\n",
              "        ...,\n",
              "        [0.02868998, 0.29056704, 0.052513  ],\n",
              "        [0.2673527 , 0.34599364, 0.3527435 ],\n",
              "        [0.0713954 , 0.8323227 , 0.20361519]],\n",
              "\n",
              "       [[0.7686583 , 0.49155104, 0.20437145],\n",
              "        [0.7407775 , 0.0482223 , 0.78289855],\n",
              "        [0.68565905, 0.39979637, 0.39762723],\n",
              "        ...,\n",
              "        [0.68443716, 0.6947409 , 0.31150508],\n",
              "        [0.22253776, 0.11337936, 0.77979636],\n",
              "        [0.6721064 , 0.91757536, 0.9302108 ]],\n",
              "\n",
              "       [[0.4201771 , 0.6868063 , 0.7297621 ],\n",
              "        [0.27659392, 0.10658538, 0.9523419 ],\n",
              "        [0.52315307, 0.86727154, 0.46014428],\n",
              "        ...,\n",
              "        [0.26777506, 0.31183314, 0.82361424],\n",
              "        [0.04932094, 0.5870789 , 0.8670149 ],\n",
              "        [0.11594772, 0.52430665, 0.13485634]]], dtype=float32)>"
            ]
          },
          "metadata": {
            "tags": []
          },
          "execution_count": 68
        }
      ]
    },
    {
      "cell_type": "markdown",
      "metadata": {
        "id": "etWDsx9H2mPz"
      },
      "source": [
        "## **Q7 :** \n",
        "\n",
        "Find the min and max values of the tensor you created in 6."
      ]
    },
    {
      "cell_type": "code",
      "metadata": {
        "colab": {
          "base_uri": "https://localhost:8080/"
        },
        "id": "bk7-Xl1C1zwE",
        "outputId": "a4214fcb-f8ba-4d57-d613-551ee24a4ac4"
      },
      "source": [
        "tf.reduce_max(tensor_q6)"
      ],
      "execution_count": 70,
      "outputs": [
        {
          "output_type": "execute_result",
          "data": {
            "text/plain": [
              "<tf.Tensor: shape=(), dtype=float32, numpy=0.9999944>"
            ]
          },
          "metadata": {
            "tags": []
          },
          "execution_count": 70
        }
      ]
    },
    {
      "cell_type": "code",
      "metadata": {
        "colab": {
          "base_uri": "https://localhost:8080/"
        },
        "id": "FyVZ-exN1zVE",
        "outputId": "bb0b5a26-eba6-49a7-ae69-8ba340777082"
      },
      "source": [
        "tf.reduce_min(tensor_q6)"
      ],
      "execution_count": 72,
      "outputs": [
        {
          "output_type": "execute_result",
          "data": {
            "text/plain": [
              "<tf.Tensor: shape=(), dtype=float32, numpy=3.33786e-06>"
            ]
          },
          "metadata": {
            "tags": []
          },
          "execution_count": 72
        }
      ]
    },
    {
      "cell_type": "markdown",
      "metadata": {
        "id": "EXPnRc6F26gh"
      },
      "source": [
        "## **Q8 :** \n",
        "\n",
        "Created a tensor with random values of shape [1, 224, 224, 3] then squeeze it to change the shape to [224, 224, 3]."
      ]
    },
    {
      "cell_type": "code",
      "metadata": {
        "colab": {
          "base_uri": "https://localhost:8080/"
        },
        "id": "CqMQ1Fvk2vED",
        "outputId": "fe30fac3-eb34-4a16-c33a-0401b8631acc"
      },
      "source": [
        "tensor_q8 = tf.random.Generator.from_seed(1)\n",
        "tensor_q8 = tf.random.uniform(shape=(1, 224, 224, 3))\n",
        "tensor_q8.shape"
      ],
      "execution_count": 75,
      "outputs": [
        {
          "output_type": "execute_result",
          "data": {
            "text/plain": [
              "TensorShape([1, 224, 224, 3])"
            ]
          },
          "metadata": {
            "tags": []
          },
          "execution_count": 75
        }
      ]
    },
    {
      "cell_type": "code",
      "metadata": {
        "colab": {
          "base_uri": "https://localhost:8080/"
        },
        "id": "0CnKrCeL3QEf",
        "outputId": "71e42dc7-1d4a-4c75-ad63-5477e18edf25"
      },
      "source": [
        "tensor_q8_squeeze = tf.squeeze(tensor_q8)\n",
        "tensor_q8_squeeze.shape"
      ],
      "execution_count": 77,
      "outputs": [
        {
          "output_type": "execute_result",
          "data": {
            "text/plain": [
              "TensorShape([224, 224, 3])"
            ]
          },
          "metadata": {
            "tags": []
          },
          "execution_count": 77
        }
      ]
    },
    {
      "cell_type": "markdown",
      "metadata": {
        "id": "VUs2YhCM3rpx"
      },
      "source": [
        "## **Q9 :** \n",
        "\n",
        "Create a tensor with shape [10] using your own choice of values, then find the index which has the maximum value."
      ]
    },
    {
      "cell_type": "code",
      "metadata": {
        "colab": {
          "base_uri": "https://localhost:8080/"
        },
        "id": "AggDPPsc3dde",
        "outputId": "eeb19fb7-fb71-4910-b40b-cf2f8da70886"
      },
      "source": [
        "tensor_q9 = tf.constant([6, 3, 5, 4, 2, 1, 9, 7, 8, 0])\n",
        "tensor_q9"
      ],
      "execution_count": 87,
      "outputs": [
        {
          "output_type": "execute_result",
          "data": {
            "text/plain": [
              "<tf.Tensor: shape=(10,), dtype=int32, numpy=array([6, 3, 5, 4, 2, 1, 9, 7, 8, 0], dtype=int32)>"
            ]
          },
          "metadata": {
            "tags": []
          },
          "execution_count": 87
        }
      ]
    },
    {
      "cell_type": "code",
      "metadata": {
        "colab": {
          "base_uri": "https://localhost:8080/"
        },
        "id": "-opfDJEF3-Nv",
        "outputId": "7d66b5df-ab26-4f76-ca80-dd5f09dedaa3"
      },
      "source": [
        "tf.argmax(tensor_q9)"
      ],
      "execution_count": 88,
      "outputs": [
        {
          "output_type": "execute_result",
          "data": {
            "text/plain": [
              "<tf.Tensor: shape=(), dtype=int64, numpy=6>"
            ]
          },
          "metadata": {
            "tags": []
          },
          "execution_count": 88
        }
      ]
    },
    {
      "cell_type": "code",
      "metadata": {
        "colab": {
          "base_uri": "https://localhost:8080/"
        },
        "id": "IRabctnh4Cmk",
        "outputId": "25ed6664-502f-4e36-87a6-7fc151542763"
      },
      "source": [
        "tf.argmin(tensor_q9)"
      ],
      "execution_count": 89,
      "outputs": [
        {
          "output_type": "execute_result",
          "data": {
            "text/plain": [
              "<tf.Tensor: shape=(), dtype=int64, numpy=9>"
            ]
          },
          "metadata": {
            "tags": []
          },
          "execution_count": 89
        }
      ]
    },
    {
      "cell_type": "markdown",
      "metadata": {
        "id": "TDoWpkTT4d4r"
      },
      "source": [
        "## **Q10 :** \n",
        "\n",
        "One-hot encode the tensor you created in 9."
      ]
    },
    {
      "cell_type": "code",
      "metadata": {
        "colab": {
          "base_uri": "https://localhost:8080/"
        },
        "id": "wgRf_mgS4HSO",
        "outputId": "0a99746e-9ced-42fe-cd1f-616402b3bf76"
      },
      "source": [
        "tf.one_hot(tf.sort(tensor_q9), depth=10)"
      ],
      "execution_count": 94,
      "outputs": [
        {
          "output_type": "execute_result",
          "data": {
            "text/plain": [
              "<tf.Tensor: shape=(10, 10), dtype=float32, numpy=\n",
              "array([[1., 0., 0., 0., 0., 0., 0., 0., 0., 0.],\n",
              "       [0., 1., 0., 0., 0., 0., 0., 0., 0., 0.],\n",
              "       [0., 0., 1., 0., 0., 0., 0., 0., 0., 0.],\n",
              "       [0., 0., 0., 1., 0., 0., 0., 0., 0., 0.],\n",
              "       [0., 0., 0., 0., 1., 0., 0., 0., 0., 0.],\n",
              "       [0., 0., 0., 0., 0., 1., 0., 0., 0., 0.],\n",
              "       [0., 0., 0., 0., 0., 0., 1., 0., 0., 0.],\n",
              "       [0., 0., 0., 0., 0., 0., 0., 1., 0., 0.],\n",
              "       [0., 0., 0., 0., 0., 0., 0., 0., 1., 0.],\n",
              "       [0., 0., 0., 0., 0., 0., 0., 0., 0., 1.]], dtype=float32)>"
            ]
          },
          "metadata": {
            "tags": []
          },
          "execution_count": 94
        }
      ]
    }
  ]
}