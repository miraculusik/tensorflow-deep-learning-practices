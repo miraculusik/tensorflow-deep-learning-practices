{
  "nbformat": 4,
  "nbformat_minor": 0,
  "metadata": {
    "colab": {
      "name": "tensorflow-regression-exercises.ipynb",
      "provenance": [],
      "collapsed_sections": [],
      "authorship_tag": "ABX9TyOegAKStyE4JRny9UTG8hYb",
      "include_colab_link": true
    },
    "kernelspec": {
      "name": "python3",
      "display_name": "Python 3"
    },
    "language_info": {
      "name": "python"
    }
  },
  "cells": [
    {
      "cell_type": "markdown",
      "metadata": {
        "id": "view-in-github",
        "colab_type": "text"
      },
      "source": [
        "<a href=\"https://colab.research.google.com/github/miraculusik/tensorflow-deep-learning-practices/blob/main/tensorflow_regression_exercises.ipynb\" target=\"_parent\"><img src=\"https://colab.research.google.com/assets/colab-badge.svg\" alt=\"Open In Colab\"/></a>"
      ]
    },
    {
      "cell_type": "markdown",
      "metadata": {
        "id": "bGcGfRxz9ToU"
      },
      "source": [
        "# Question \n",
        "\n",
        "Import the Boston pricing dataset from TensorFlow tf.keras.datasets and model it."
      ]
    },
    {
      "cell_type": "code",
      "metadata": {
        "id": "ZpmsybKQ9TAG"
      },
      "source": [
        "import tensorflow as tf\n",
        "from tensorflow.keras.datasets import boston_housing"
      ],
      "execution_count": 2,
      "outputs": []
    },
    {
      "cell_type": "code",
      "metadata": {
        "colab": {
          "base_uri": "https://localhost:8080/"
        },
        "id": "bM1cyg_19kvj",
        "outputId": "711fe7ca-73ac-4a51-ef4c-793db0577870"
      },
      "source": [
        "(X_train, y_train), (X_test, y_test) = boston_housing.load_data(test_split=0.15)\n",
        "X_train.shape, X_test.shape"
      ],
      "execution_count": 3,
      "outputs": [
        {
          "output_type": "stream",
          "text": [
            "Downloading data from https://storage.googleapis.com/tensorflow/tf-keras-datasets/boston_housing.npz\n",
            "57344/57026 [==============================] - 0s 0us/step\n"
          ],
          "name": "stdout"
        },
        {
          "output_type": "execute_result",
          "data": {
            "text/plain": [
              "((430, 13), (76, 13))"
            ]
          },
          "metadata": {
            "tags": []
          },
          "execution_count": 3
        }
      ]
    },
    {
      "cell_type": "code",
      "metadata": {
        "colab": {
          "base_uri": "https://localhost:8080/"
        },
        "id": "yO1rveC493Yf",
        "outputId": "15ca0c97-1cc0-4d61-b07e-03661d39b440"
      },
      "source": [
        "X_train"
      ],
      "execution_count": 4,
      "outputs": [
        {
          "output_type": "execute_result",
          "data": {
            "text/plain": [
              "array([[1.23247e+00, 0.00000e+00, 8.14000e+00, ..., 2.10000e+01,\n",
              "        3.96900e+02, 1.87200e+01],\n",
              "       [2.17700e-02, 8.25000e+01, 2.03000e+00, ..., 1.47000e+01,\n",
              "        3.95380e+02, 3.11000e+00],\n",
              "       [4.89822e+00, 0.00000e+00, 1.81000e+01, ..., 2.02000e+01,\n",
              "        3.75520e+02, 3.26000e+00],\n",
              "       ...,\n",
              "       [1.91330e-01, 2.20000e+01, 5.86000e+00, ..., 1.91000e+01,\n",
              "        3.89130e+02, 1.84600e+01],\n",
              "       [3.54800e-02, 8.00000e+01, 3.64000e+00, ..., 1.64000e+01,\n",
              "        3.95180e+02, 9.25000e+00],\n",
              "       [5.82401e+00, 0.00000e+00, 1.81000e+01, ..., 2.02000e+01,\n",
              "        3.96900e+02, 1.07400e+01]])"
            ]
          },
          "metadata": {
            "tags": []
          },
          "execution_count": 4
        }
      ]
    },
    {
      "cell_type": "code",
      "metadata": {
        "colab": {
          "base_uri": "https://localhost:8080/"
        },
        "id": "ZHnS0bUM-sl9",
        "outputId": "17a9ab87-9f72-4351-e86f-0049f5de1a16"
      },
      "source": [
        "X_train.max()"
      ],
      "execution_count": 5,
      "outputs": [
        {
          "output_type": "execute_result",
          "data": {
            "text/plain": [
              "711.0"
            ]
          },
          "metadata": {
            "tags": []
          },
          "execution_count": 5
        }
      ]
    },
    {
      "cell_type": "code",
      "metadata": {
        "id": "McuGpP-6-EGY"
      },
      "source": [
        "from sklearn.preprocessing import MinMaxScaler\n",
        "\n",
        "scaler = MinMaxScaler()\n",
        "\n",
        "X_train = scaler.fit_transform(X_train)\n",
        "X_test = scaler.fit_transform(X_test)"
      ],
      "execution_count": 6,
      "outputs": []
    },
    {
      "cell_type": "code",
      "metadata": {
        "colab": {
          "base_uri": "https://localhost:8080/"
        },
        "id": "hzvATo6f-V0L",
        "outputId": "d5891d01-c0b3-4377-c3c7-75b76f8edd22"
      },
      "source": [
        "X_train.max()"
      ],
      "execution_count": 7,
      "outputs": [
        {
          "output_type": "execute_result",
          "data": {
            "text/plain": [
              "1.0000000000000002"
            ]
          },
          "metadata": {
            "tags": []
          },
          "execution_count": 7
        }
      ]
    },
    {
      "cell_type": "code",
      "metadata": {
        "colab": {
          "base_uri": "https://localhost:8080/"
        },
        "id": "pxVyQUYd-9Vy",
        "outputId": "427dbe98-ba2b-4b99-b38d-c70a3ce73288"
      },
      "source": [
        "X_train.shape"
      ],
      "execution_count": 8,
      "outputs": [
        {
          "output_type": "execute_result",
          "data": {
            "text/plain": [
              "(430, 13)"
            ]
          },
          "metadata": {
            "tags": []
          },
          "execution_count": 8
        }
      ]
    },
    {
      "cell_type": "code",
      "metadata": {
        "colab": {
          "base_uri": "https://localhost:8080/"
        },
        "id": "tYWyxT5w-eH1",
        "outputId": "5fc950e8-d68c-4095-a826-b4ee9610f04a"
      },
      "source": [
        "tf.random.set_seed(42)\n",
        "\n",
        "model = tf.keras.Sequential([\n",
        "  tf.keras.layers.Dense(8, activation=\"elu\"),\n",
        "  tf.keras.layers.Dense(12, activation=\"elu\"),\n",
        "  tf.keras.layers.Dense(12, activation=\"elu\"),\n",
        "  tf.keras.layers.Dense(1, activation=\"elu\")\n",
        "])\n",
        "\n",
        "model.compile(loss=tf.keras.losses.mean_squared_error,\n",
        "              optimizer=tf.keras.optimizers.Adam(learning_rate=0.01),\n",
        "              metrics = [\"mse\"])\n",
        "\n",
        "model.fit(X_train, y_train, epochs=120, validation_data =(X_test, y_test))"
      ],
      "execution_count": 28,
      "outputs": [
        {
          "output_type": "stream",
          "text": [
            "Epoch 1/120\n",
            "14/14 [==============================] - 1s 12ms/step - loss: 455.9966 - mse: 455.9966 - val_loss: 326.8302 - val_mse: 326.8302\n",
            "Epoch 2/120\n",
            "14/14 [==============================] - 0s 2ms/step - loss: 169.5628 - mse: 169.5628 - val_loss: 165.0663 - val_mse: 165.0663\n",
            "Epoch 3/120\n",
            "14/14 [==============================] - 0s 3ms/step - loss: 116.3153 - mse: 116.3153 - val_loss: 135.7176 - val_mse: 135.7176\n",
            "Epoch 4/120\n",
            "14/14 [==============================] - 0s 3ms/step - loss: 94.8162 - mse: 94.8162 - val_loss: 97.8321 - val_mse: 97.8321\n",
            "Epoch 5/120\n",
            "14/14 [==============================] - 0s 3ms/step - loss: 79.4174 - mse: 79.4174 - val_loss: 86.1311 - val_mse: 86.1311\n",
            "Epoch 6/120\n",
            "14/14 [==============================] - 0s 3ms/step - loss: 66.6406 - mse: 66.6406 - val_loss: 69.2050 - val_mse: 69.2050\n",
            "Epoch 7/120\n",
            "14/14 [==============================] - 0s 3ms/step - loss: 58.1189 - mse: 58.1189 - val_loss: 67.5121 - val_mse: 67.5121\n",
            "Epoch 8/120\n",
            "14/14 [==============================] - 0s 3ms/step - loss: 53.5821 - mse: 53.5821 - val_loss: 53.7283 - val_mse: 53.7283\n",
            "Epoch 9/120\n",
            "14/14 [==============================] - 0s 3ms/step - loss: 50.3928 - mse: 50.3928 - val_loss: 53.1632 - val_mse: 53.1632\n",
            "Epoch 10/120\n",
            "14/14 [==============================] - 0s 3ms/step - loss: 46.1213 - mse: 46.1213 - val_loss: 55.3167 - val_mse: 55.3167\n",
            "Epoch 11/120\n",
            "14/14 [==============================] - 0s 3ms/step - loss: 42.6267 - mse: 42.6267 - val_loss: 44.5018 - val_mse: 44.5018\n",
            "Epoch 12/120\n",
            "14/14 [==============================] - 0s 3ms/step - loss: 40.2776 - mse: 40.2776 - val_loss: 43.3074 - val_mse: 43.3074\n",
            "Epoch 13/120\n",
            "14/14 [==============================] - 0s 3ms/step - loss: 36.2288 - mse: 36.2288 - val_loss: 43.4572 - val_mse: 43.4572\n",
            "Epoch 14/120\n",
            "14/14 [==============================] - 0s 3ms/step - loss: 33.0631 - mse: 33.0631 - val_loss: 41.7592 - val_mse: 41.7592\n",
            "Epoch 15/120\n",
            "14/14 [==============================] - 0s 3ms/step - loss: 29.5290 - mse: 29.5290 - val_loss: 42.0049 - val_mse: 42.0049\n",
            "Epoch 16/120\n",
            "14/14 [==============================] - 0s 3ms/step - loss: 27.0423 - mse: 27.0423 - val_loss: 54.2566 - val_mse: 54.2566\n",
            "Epoch 17/120\n",
            "14/14 [==============================] - 0s 3ms/step - loss: 25.1590 - mse: 25.1590 - val_loss: 35.6998 - val_mse: 35.6998\n",
            "Epoch 18/120\n",
            "14/14 [==============================] - 0s 3ms/step - loss: 23.6988 - mse: 23.6988 - val_loss: 39.4835 - val_mse: 39.4835\n",
            "Epoch 19/120\n",
            "14/14 [==============================] - 0s 3ms/step - loss: 21.6326 - mse: 21.6326 - val_loss: 46.4911 - val_mse: 46.4911\n",
            "Epoch 20/120\n",
            "14/14 [==============================] - 0s 3ms/step - loss: 21.0890 - mse: 21.0890 - val_loss: 48.1317 - val_mse: 48.1317\n",
            "Epoch 21/120\n",
            "14/14 [==============================] - 0s 3ms/step - loss: 21.0823 - mse: 21.0823 - val_loss: 42.6885 - val_mse: 42.6885\n",
            "Epoch 22/120\n",
            "14/14 [==============================] - 0s 3ms/step - loss: 20.6347 - mse: 20.6347 - val_loss: 56.2901 - val_mse: 56.2901\n",
            "Epoch 23/120\n",
            "14/14 [==============================] - 0s 3ms/step - loss: 19.6347 - mse: 19.6347 - val_loss: 36.2210 - val_mse: 36.2210\n",
            "Epoch 24/120\n",
            "14/14 [==============================] - 0s 3ms/step - loss: 20.4662 - mse: 20.4662 - val_loss: 35.8389 - val_mse: 35.8389\n",
            "Epoch 25/120\n",
            "14/14 [==============================] - 0s 3ms/step - loss: 19.2039 - mse: 19.2039 - val_loss: 37.9666 - val_mse: 37.9666\n",
            "Epoch 26/120\n",
            "14/14 [==============================] - 0s 3ms/step - loss: 19.4821 - mse: 19.4821 - val_loss: 42.6842 - val_mse: 42.6842\n",
            "Epoch 27/120\n",
            "14/14 [==============================] - 0s 3ms/step - loss: 20.7179 - mse: 20.7179 - val_loss: 42.2765 - val_mse: 42.2765\n",
            "Epoch 28/120\n",
            "14/14 [==============================] - 0s 3ms/step - loss: 18.5132 - mse: 18.5132 - val_loss: 39.9488 - val_mse: 39.9488\n",
            "Epoch 29/120\n",
            "14/14 [==============================] - 0s 3ms/step - loss: 18.0666 - mse: 18.0666 - val_loss: 39.7700 - val_mse: 39.7700\n",
            "Epoch 30/120\n",
            "14/14 [==============================] - 0s 3ms/step - loss: 17.9513 - mse: 17.9513 - val_loss: 35.7181 - val_mse: 35.7181\n",
            "Epoch 31/120\n",
            "14/14 [==============================] - 0s 4ms/step - loss: 18.5961 - mse: 18.5961 - val_loss: 34.6010 - val_mse: 34.6010\n",
            "Epoch 32/120\n",
            "14/14 [==============================] - 0s 3ms/step - loss: 18.8344 - mse: 18.8344 - val_loss: 32.2031 - val_mse: 32.2031\n",
            "Epoch 33/120\n",
            "14/14 [==============================] - 0s 3ms/step - loss: 18.5327 - mse: 18.5327 - val_loss: 35.4561 - val_mse: 35.4561\n",
            "Epoch 34/120\n",
            "14/14 [==============================] - 0s 3ms/step - loss: 17.0208 - mse: 17.0208 - val_loss: 41.0520 - val_mse: 41.0520\n",
            "Epoch 35/120\n",
            "14/14 [==============================] - 0s 3ms/step - loss: 17.5083 - mse: 17.5083 - val_loss: 45.1607 - val_mse: 45.1607\n",
            "Epoch 36/120\n",
            "14/14 [==============================] - 0s 3ms/step - loss: 16.4457 - mse: 16.4457 - val_loss: 51.9415 - val_mse: 51.9415\n",
            "Epoch 37/120\n",
            "14/14 [==============================] - 0s 3ms/step - loss: 17.3546 - mse: 17.3546 - val_loss: 41.3016 - val_mse: 41.3016\n",
            "Epoch 38/120\n",
            "14/14 [==============================] - 0s 3ms/step - loss: 16.1887 - mse: 16.1887 - val_loss: 47.5649 - val_mse: 47.5649\n",
            "Epoch 39/120\n",
            "14/14 [==============================] - 0s 3ms/step - loss: 16.2823 - mse: 16.2823 - val_loss: 44.0098 - val_mse: 44.0098\n",
            "Epoch 40/120\n",
            "14/14 [==============================] - 0s 3ms/step - loss: 15.7669 - mse: 15.7669 - val_loss: 42.3490 - val_mse: 42.3490\n",
            "Epoch 41/120\n",
            "14/14 [==============================] - 0s 3ms/step - loss: 15.5630 - mse: 15.5630 - val_loss: 42.3898 - val_mse: 42.3898\n",
            "Epoch 42/120\n",
            "14/14 [==============================] - 0s 3ms/step - loss: 14.6987 - mse: 14.6987 - val_loss: 34.3329 - val_mse: 34.3329\n",
            "Epoch 43/120\n",
            "14/14 [==============================] - 0s 3ms/step - loss: 14.7520 - mse: 14.7520 - val_loss: 44.8113 - val_mse: 44.8113\n",
            "Epoch 44/120\n",
            "14/14 [==============================] - 0s 3ms/step - loss: 14.6481 - mse: 14.6481 - val_loss: 35.6202 - val_mse: 35.6202\n",
            "Epoch 45/120\n",
            "14/14 [==============================] - 0s 3ms/step - loss: 14.1279 - mse: 14.1279 - val_loss: 33.6097 - val_mse: 33.6097\n",
            "Epoch 46/120\n",
            "14/14 [==============================] - 0s 3ms/step - loss: 15.8882 - mse: 15.8882 - val_loss: 38.1439 - val_mse: 38.1439\n",
            "Epoch 47/120\n",
            "14/14 [==============================] - 0s 3ms/step - loss: 13.8630 - mse: 13.8630 - val_loss: 37.7242 - val_mse: 37.7242\n",
            "Epoch 48/120\n",
            "14/14 [==============================] - 0s 4ms/step - loss: 13.9510 - mse: 13.9510 - val_loss: 44.0452 - val_mse: 44.0452\n",
            "Epoch 49/120\n",
            "14/14 [==============================] - 0s 3ms/step - loss: 14.3634 - mse: 14.3634 - val_loss: 44.1837 - val_mse: 44.1837\n",
            "Epoch 50/120\n",
            "14/14 [==============================] - 0s 3ms/step - loss: 13.6563 - mse: 13.6563 - val_loss: 36.4061 - val_mse: 36.4061\n",
            "Epoch 51/120\n",
            "14/14 [==============================] - 0s 3ms/step - loss: 13.9810 - mse: 13.9810 - val_loss: 44.8885 - val_mse: 44.8885\n",
            "Epoch 52/120\n",
            "14/14 [==============================] - 0s 3ms/step - loss: 12.8308 - mse: 12.8308 - val_loss: 34.9071 - val_mse: 34.9071\n",
            "Epoch 53/120\n",
            "14/14 [==============================] - 0s 3ms/step - loss: 13.5548 - mse: 13.5548 - val_loss: 35.8414 - val_mse: 35.8414\n",
            "Epoch 54/120\n",
            "14/14 [==============================] - 0s 3ms/step - loss: 12.7812 - mse: 12.7812 - val_loss: 34.3405 - val_mse: 34.3405\n",
            "Epoch 55/120\n",
            "14/14 [==============================] - 0s 3ms/step - loss: 13.2892 - mse: 13.2892 - val_loss: 35.6667 - val_mse: 35.6667\n",
            "Epoch 56/120\n",
            "14/14 [==============================] - 0s 3ms/step - loss: 12.5565 - mse: 12.5565 - val_loss: 36.2361 - val_mse: 36.2361\n",
            "Epoch 57/120\n",
            "14/14 [==============================] - 0s 3ms/step - loss: 12.1387 - mse: 12.1387 - val_loss: 33.5145 - val_mse: 33.5145\n",
            "Epoch 58/120\n",
            "14/14 [==============================] - 0s 3ms/step - loss: 12.8685 - mse: 12.8685 - val_loss: 41.1621 - val_mse: 41.1621\n",
            "Epoch 59/120\n",
            "14/14 [==============================] - 0s 3ms/step - loss: 12.2254 - mse: 12.2254 - val_loss: 34.8807 - val_mse: 34.8807\n",
            "Epoch 60/120\n",
            "14/14 [==============================] - 0s 3ms/step - loss: 12.9285 - mse: 12.9285 - val_loss: 42.1058 - val_mse: 42.1058\n",
            "Epoch 61/120\n",
            "14/14 [==============================] - 0s 3ms/step - loss: 12.1730 - mse: 12.1730 - val_loss: 37.3356 - val_mse: 37.3356\n",
            "Epoch 62/120\n",
            "14/14 [==============================] - 0s 3ms/step - loss: 11.8013 - mse: 11.8013 - val_loss: 37.8996 - val_mse: 37.8996\n",
            "Epoch 63/120\n",
            "14/14 [==============================] - 0s 3ms/step - loss: 11.5166 - mse: 11.5166 - val_loss: 42.6461 - val_mse: 42.6461\n",
            "Epoch 64/120\n",
            "14/14 [==============================] - 0s 3ms/step - loss: 11.5145 - mse: 11.5145 - val_loss: 38.3950 - val_mse: 38.3950\n",
            "Epoch 65/120\n",
            "14/14 [==============================] - 0s 3ms/step - loss: 11.4740 - mse: 11.4740 - val_loss: 36.6150 - val_mse: 36.6150\n",
            "Epoch 66/120\n",
            "14/14 [==============================] - 0s 3ms/step - loss: 11.9826 - mse: 11.9826 - val_loss: 35.9362 - val_mse: 35.9362\n",
            "Epoch 67/120\n",
            "14/14 [==============================] - 0s 4ms/step - loss: 13.3678 - mse: 13.3678 - val_loss: 37.6614 - val_mse: 37.6614\n",
            "Epoch 68/120\n",
            "14/14 [==============================] - 0s 3ms/step - loss: 12.5789 - mse: 12.5789 - val_loss: 33.2435 - val_mse: 33.2435\n",
            "Epoch 69/120\n",
            "14/14 [==============================] - 0s 3ms/step - loss: 11.5442 - mse: 11.5442 - val_loss: 44.1550 - val_mse: 44.1550\n",
            "Epoch 70/120\n",
            "14/14 [==============================] - 0s 3ms/step - loss: 11.3284 - mse: 11.3284 - val_loss: 35.2450 - val_mse: 35.2450\n",
            "Epoch 71/120\n",
            "14/14 [==============================] - 0s 3ms/step - loss: 10.9102 - mse: 10.9102 - val_loss: 36.2189 - val_mse: 36.2189\n",
            "Epoch 72/120\n",
            "14/14 [==============================] - 0s 3ms/step - loss: 12.2507 - mse: 12.2507 - val_loss: 38.2934 - val_mse: 38.2934\n",
            "Epoch 73/120\n",
            "14/14 [==============================] - 0s 3ms/step - loss: 11.5131 - mse: 11.5131 - val_loss: 34.1540 - val_mse: 34.1540\n",
            "Epoch 74/120\n",
            "14/14 [==============================] - 0s 3ms/step - loss: 11.4618 - mse: 11.4618 - val_loss: 40.1465 - val_mse: 40.1465\n",
            "Epoch 75/120\n",
            "14/14 [==============================] - 0s 3ms/step - loss: 11.6117 - mse: 11.6117 - val_loss: 37.4488 - val_mse: 37.4488\n",
            "Epoch 76/120\n",
            "14/14 [==============================] - 0s 3ms/step - loss: 10.7426 - mse: 10.7426 - val_loss: 39.9458 - val_mse: 39.9458\n",
            "Epoch 77/120\n",
            "14/14 [==============================] - 0s 3ms/step - loss: 10.6511 - mse: 10.6511 - val_loss: 40.9628 - val_mse: 40.9628\n",
            "Epoch 78/120\n",
            "14/14 [==============================] - 0s 4ms/step - loss: 10.7419 - mse: 10.7419 - val_loss: 36.2486 - val_mse: 36.2486\n",
            "Epoch 79/120\n",
            "14/14 [==============================] - 0s 3ms/step - loss: 10.6045 - mse: 10.6045 - val_loss: 34.4990 - val_mse: 34.4990\n",
            "Epoch 80/120\n",
            "14/14 [==============================] - 0s 3ms/step - loss: 11.3782 - mse: 11.3782 - val_loss: 35.4438 - val_mse: 35.4438\n",
            "Epoch 81/120\n",
            "14/14 [==============================] - 0s 3ms/step - loss: 10.9249 - mse: 10.9249 - val_loss: 34.0499 - val_mse: 34.0499\n",
            "Epoch 82/120\n",
            "14/14 [==============================] - 0s 3ms/step - loss: 10.5723 - mse: 10.5723 - val_loss: 39.5140 - val_mse: 39.5140\n",
            "Epoch 83/120\n",
            "14/14 [==============================] - 0s 3ms/step - loss: 10.5388 - mse: 10.5388 - val_loss: 36.3518 - val_mse: 36.3518\n",
            "Epoch 84/120\n",
            "14/14 [==============================] - 0s 3ms/step - loss: 10.2849 - mse: 10.2849 - val_loss: 38.8199 - val_mse: 38.8199\n",
            "Epoch 85/120\n",
            "14/14 [==============================] - 0s 3ms/step - loss: 10.0657 - mse: 10.0657 - val_loss: 37.6896 - val_mse: 37.6896\n",
            "Epoch 86/120\n",
            "14/14 [==============================] - 0s 3ms/step - loss: 10.2467 - mse: 10.2467 - val_loss: 39.6904 - val_mse: 39.6904\n",
            "Epoch 87/120\n",
            "14/14 [==============================] - 0s 3ms/step - loss: 10.5056 - mse: 10.5056 - val_loss: 35.2382 - val_mse: 35.2382\n",
            "Epoch 88/120\n",
            "14/14 [==============================] - 0s 3ms/step - loss: 10.4435 - mse: 10.4435 - val_loss: 30.9629 - val_mse: 30.9629\n",
            "Epoch 89/120\n",
            "14/14 [==============================] - 0s 3ms/step - loss: 10.7154 - mse: 10.7154 - val_loss: 38.9211 - val_mse: 38.9211\n",
            "Epoch 90/120\n",
            "14/14 [==============================] - 0s 4ms/step - loss: 9.7884 - mse: 9.7884 - val_loss: 40.1055 - val_mse: 40.1055\n",
            "Epoch 91/120\n",
            "14/14 [==============================] - 0s 3ms/step - loss: 10.3024 - mse: 10.3024 - val_loss: 39.2072 - val_mse: 39.2072\n",
            "Epoch 92/120\n",
            "14/14 [==============================] - 0s 3ms/step - loss: 10.3581 - mse: 10.3581 - val_loss: 37.2714 - val_mse: 37.2714\n",
            "Epoch 93/120\n",
            "14/14 [==============================] - 0s 3ms/step - loss: 10.1958 - mse: 10.1958 - val_loss: 34.1692 - val_mse: 34.1692\n",
            "Epoch 94/120\n",
            "14/14 [==============================] - 0s 3ms/step - loss: 9.7469 - mse: 9.7469 - val_loss: 37.0266 - val_mse: 37.0266\n",
            "Epoch 95/120\n",
            "14/14 [==============================] - 0s 4ms/step - loss: 9.8414 - mse: 9.8414 - val_loss: 33.5393 - val_mse: 33.5393\n",
            "Epoch 96/120\n",
            "14/14 [==============================] - 0s 3ms/step - loss: 11.4395 - mse: 11.4395 - val_loss: 30.5234 - val_mse: 30.5234\n",
            "Epoch 97/120\n",
            "14/14 [==============================] - 0s 3ms/step - loss: 9.8132 - mse: 9.8132 - val_loss: 37.1762 - val_mse: 37.1762\n",
            "Epoch 98/120\n",
            "14/14 [==============================] - 0s 3ms/step - loss: 9.6843 - mse: 9.6843 - val_loss: 34.7428 - val_mse: 34.7428\n",
            "Epoch 99/120\n",
            "14/14 [==============================] - 0s 3ms/step - loss: 10.1673 - mse: 10.1673 - val_loss: 30.8679 - val_mse: 30.8679\n",
            "Epoch 100/120\n",
            "14/14 [==============================] - 0s 3ms/step - loss: 9.6476 - mse: 9.6476 - val_loss: 35.2899 - val_mse: 35.2899\n",
            "Epoch 101/120\n",
            "14/14 [==============================] - 0s 3ms/step - loss: 9.5520 - mse: 9.5520 - val_loss: 36.6012 - val_mse: 36.6012\n",
            "Epoch 102/120\n",
            "14/14 [==============================] - 0s 3ms/step - loss: 9.6925 - mse: 9.6925 - val_loss: 39.9876 - val_mse: 39.9876\n",
            "Epoch 103/120\n",
            "14/14 [==============================] - 0s 3ms/step - loss: 10.5941 - mse: 10.5941 - val_loss: 33.4357 - val_mse: 33.4357\n",
            "Epoch 104/120\n",
            "14/14 [==============================] - 0s 3ms/step - loss: 10.3338 - mse: 10.3338 - val_loss: 30.1616 - val_mse: 30.1616\n",
            "Epoch 105/120\n",
            "14/14 [==============================] - 0s 3ms/step - loss: 11.6457 - mse: 11.6457 - val_loss: 30.7859 - val_mse: 30.7859\n",
            "Epoch 106/120\n",
            "14/14 [==============================] - 0s 3ms/step - loss: 10.0019 - mse: 10.0019 - val_loss: 35.6829 - val_mse: 35.6829\n",
            "Epoch 107/120\n",
            "14/14 [==============================] - 0s 3ms/step - loss: 9.1853 - mse: 9.1853 - val_loss: 35.2029 - val_mse: 35.2029\n",
            "Epoch 108/120\n",
            "14/14 [==============================] - 0s 3ms/step - loss: 9.4494 - mse: 9.4494 - val_loss: 34.0579 - val_mse: 34.0579\n",
            "Epoch 109/120\n",
            "14/14 [==============================] - 0s 3ms/step - loss: 9.2517 - mse: 9.2517 - val_loss: 32.3604 - val_mse: 32.3604\n",
            "Epoch 110/120\n",
            "14/14 [==============================] - 0s 3ms/step - loss: 9.3527 - mse: 9.3527 - val_loss: 31.4204 - val_mse: 31.4204\n",
            "Epoch 111/120\n",
            "14/14 [==============================] - 0s 3ms/step - loss: 10.2401 - mse: 10.2401 - val_loss: 31.7789 - val_mse: 31.7789\n",
            "Epoch 112/120\n",
            "14/14 [==============================] - 0s 3ms/step - loss: 9.0104 - mse: 9.0104 - val_loss: 36.1544 - val_mse: 36.1544\n",
            "Epoch 113/120\n",
            "14/14 [==============================] - 0s 3ms/step - loss: 8.9802 - mse: 8.9802 - val_loss: 39.4468 - val_mse: 39.4468\n",
            "Epoch 114/120\n",
            "14/14 [==============================] - 0s 3ms/step - loss: 10.3160 - mse: 10.3160 - val_loss: 35.7185 - val_mse: 35.7185\n",
            "Epoch 115/120\n",
            "14/14 [==============================] - 0s 3ms/step - loss: 9.1489 - mse: 9.1489 - val_loss: 36.6390 - val_mse: 36.6390\n",
            "Epoch 116/120\n",
            "14/14 [==============================] - 0s 3ms/step - loss: 8.6800 - mse: 8.6800 - val_loss: 37.2700 - val_mse: 37.2700\n",
            "Epoch 117/120\n",
            "14/14 [==============================] - 0s 3ms/step - loss: 9.0895 - mse: 9.0895 - val_loss: 36.6139 - val_mse: 36.6139\n",
            "Epoch 118/120\n",
            "14/14 [==============================] - 0s 3ms/step - loss: 9.1379 - mse: 9.1379 - val_loss: 35.0351 - val_mse: 35.0351\n",
            "Epoch 119/120\n",
            "14/14 [==============================] - 0s 4ms/step - loss: 8.6745 - mse: 8.6745 - val_loss: 34.9290 - val_mse: 34.9290\n",
            "Epoch 120/120\n",
            "14/14 [==============================] - 0s 3ms/step - loss: 8.5059 - mse: 8.5059 - val_loss: 39.3603 - val_mse: 39.3603\n"
          ],
          "name": "stdout"
        },
        {
          "output_type": "execute_result",
          "data": {
            "text/plain": [
              "<tensorflow.python.keras.callbacks.History at 0x7fa453679f10>"
            ]
          },
          "metadata": {
            "tags": []
          },
          "execution_count": 28
        }
      ]
    },
    {
      "cell_type": "code",
      "metadata": {
        "colab": {
          "base_uri": "https://localhost:8080/",
          "height": 388
        },
        "id": "4lYd5514_pcN",
        "outputId": "cfc695dc-b699-405c-fd80-ab5d43fd1ee3"
      },
      "source": [
        "import pandas as pd\n",
        "import matplotlib.pyplot as plt\n",
        "\n",
        "pd.DataFrame(model.history.history).plot(figsize=(15,6))\n",
        "plt.ylabel(\"loss\")\n",
        "plt.xlabel(\"epochs\")\n",
        "plt.grid(linewidth=0.5, color=\"gray\")\n",
        "plt.show()"
      ],
      "execution_count": 29,
      "outputs": [
        {
          "output_type": "display_data",
          "data": {
            "image/png": "[encoded data removed]",
            "text/plain": [
              "<Figure size 1080x432 with 1 Axes>"
            ]
          },
          "metadata": {
            "tags": [],
            "needs_background": "light"
          }
        }
      ]
    }
  ]
}